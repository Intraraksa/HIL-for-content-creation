{
 "cells": [
  {
   "cell_type": "code",
   "execution_count": 1,
   "id": "95366a65",
   "metadata": {},
   "outputs": [
    {
     "data": {
      "text/plain": [
       "True"
      ]
     },
     "execution_count": 1,
     "metadata": {},
     "output_type": "execute_result"
    }
   ],
   "source": [
    "from langchain_google_genai import ChatGoogleGenerativeAI\n",
    "from langchain_core.prompts import ChatPromptTemplate, MessagesPlaceholder\n",
    "from langgraph.graph import StateGraph, MessagesState, START, END\n",
    "from langgraph.graph.message import add_messages\n",
    "from langgraph.types import interrupt, Command\n",
    "from langgraph.checkpoint.memory import MemorySaver\n",
    "\n",
    "from pydantic import BaseModel\n",
    "from typing_extensions import TypedDict, Annotated, Literal\n",
    "\n",
    "import os\n",
    "from dotenv import load_dotenv\n",
    "\n",
    "load_dotenv()"
   ]
  },
  {
   "cell_type": "code",
   "execution_count": 2,
   "id": "8f7c600a",
   "metadata": {},
   "outputs": [
    {
     "name": "stdout",
     "output_type": "stream",
     "text": [
      "content=\"The capital of Thailand is **Bangkok**.\\n\\nIn Thai, the city is known as **Krung Thep Maha Nakhon** (กรุงเทพมหานคร), which is often shortened to just **Krung Thep**.\\n\\nFun fact: The city's full ceremonial name is one of the longest in the world:\\n*Krung Thep Maha Nakhon Amon Rattanakosin Mahinthara Ayuthaya Mahadilok Phop Noppharat Ratchathani Burirom Udomratchaniwet Mahasathan Amon Piman Awatan Sathit Sakkathattiya Witsanukam Prasit.*\" additional_kwargs={} response_metadata={'prompt_feedback': {'block_reason': 0, 'safety_ratings': []}, 'finish_reason': 'STOP', 'model_name': 'gemini-2.5-pro', 'safety_ratings': []} id='run--91d849c8-b479-4015-baf4-73ac5ec4338e-0' usage_metadata={'input_tokens': 8, 'output_tokens': 646, 'total_tokens': 654, 'input_token_details': {'cache_read': 0}, 'output_token_details': {'reasoning': 516}}\n"
     ]
    }
   ],
   "source": [
    "try:\n",
    "    llm = ChatGoogleGenerativeAI(model='gemini-2.5-pro', temperature=0.2)\n",
    "    print(llm.invoke(\"What is a capital of Thailand?\"))\n",
    "except:\n",
    "    ValueError (print(\"Op! something wrong about your model\"))"
   ]
  },
  {
   "cell_type": "code",
   "execution_count": 3,
   "id": "20053046",
   "metadata": {},
   "outputs": [],
   "source": [
    "class State(TypedDict):\n",
    "    messages : Annotated[list[str],add_messages]\n",
    "    decision : str\n",
    "    text_edit : str\n",
    "\n",
    "class Model(BaseModel):\n",
    "    content : str\n",
    "    title : str\n",
    "    "
   ]
  },
  {
   "cell_type": "code",
   "execution_count": null,
   "id": "0d318d7e",
   "metadata": {},
   "outputs": [],
   "source": [
    "def content_creator(state: State) -> State:\n",
    "\n",
    "    print(\"--- Content Creator Agent ---\")\n",
    "    ''' Content creator agent for education'''\n",
    "    system = \"\"\"You are content creator agent, Your task is create high quality content from title that user given.\n",
    "                This content must be concise and easy to understand for 15 year old. this content will be used for educational purpose.\n",
    "            \"\"\"\n",
    "    \n",
    "    prompt = ChatPromptTemplate.from_messages([\n",
    "        (\"system\",system),\n",
    "        (\"human\",\"{messages}\")\n",
    "    ])\n",
    "    \n",
    "    chain = prompt | llm \n",
    "\n",
    "    result = chain.invoke({'messages': state[\"messages\"]})\n",
    "\n",
    "    return {'messages' : result.content}\n",
    "\n",
    "def refine_creator(state: State) -> State:\n",
    "\n",
    "    print(\"--- Content Creator Agent ---\")\n",
    "    ''' Refine content creator agent for publish. Purpose for educational.'''\n",
    "    system = \"\"\"You are content creator agent, Your task is analysis content given and rewrite it related to user requiremetns\n",
    "                Purpose for education.\n",
    "            \"\"\"\n",
    "    \n",
    "    prompt = ChatPromptTemplate.from_messages([\n",
    "        (\"system\",system),\n",
    "        MessagesPlaceholder(variable_name=\"old_content\"),\n",
    "        (\"human\",\"{decision}\")\n",
    "    ])\n",
    "\n",
    "    old_content = state[\"messages\"][-1:]\n",
    "    \n",
    "    chain = prompt | llm \n",
    "\n",
    "    result = chain.invoke({'decision': state[\"messages\"], \"old_content\": old_content})\n",
    "\n",
    "    return {'messages' : result.content, 'publish': result.content}\n"
   ]
  },
  {
   "cell_type": "code",
   "execution_count": null,
   "id": "d25a8a14",
   "metadata": {},
   "outputs": [],
   "source": [
    "def human_review(state : State) -> Command[Literal[END, \"refine_creator\"]]:\n",
    "    ''' Human approve the content '''\n",
    "    \n",
    "    values = interrupt({\n",
    "                        \"question\":'''Is this pass your requirement?''',\n",
    "                        \"content\": state['messages'][-1],\n",
    "                        # \"decision\": state['decision']\n",
    "                        })\n",
    "    if values == \"approved\":\n",
    "        print(\"--- Human Approve process ---\")\n",
    "        return Command(goto=END, update={\"decision\": \"approved\"})\n",
    "    else:\n",
    "        print(\"--- Rewrite process ---\")\n",
    "        return Command(goto=\"refine_creator\", update={\"decision\": values})\n",
    "    "
   ]
  },
  {
   "cell_type": "code",
   "execution_count": 6,
   "id": "35a8360c",
   "metadata": {},
   "outputs": [],
   "source": [
    "checkpointer = MemorySaver()\n",
    "\n",
    "graph = StateGraph(State)\n",
    "graph.add_node(\"content_creator\", content_creator)\n",
    "#####\n",
    "graph.add_node(\"refine_creator\", refine_creator)\n",
    "graph.add_node(\"human\",human_review)\n",
    "#####\n",
    "graph.add_edge(START, \"content_creator\")\n",
    "graph.add_edge(\"content_creator\", \"human\")\n",
    "graph.add_edge(\"human\",END)\n",
    "workflow = graph.compile(checkpointer=checkpointer)"
   ]
  },
  {
   "cell_type": "code",
   "execution_count": 7,
   "id": "1954a4a2",
   "metadata": {},
   "outputs": [
    {
     "data": {
      "image/png": "[encoded data removed]",
      "text/plain": [
       "<langgraph.graph.state.CompiledStateGraph object at 0x0000015C729FC830>"
      ]
     },
     "execution_count": 7,
     "metadata": {},
     "output_type": "execute_result"
    }
   ],
   "source": [
    "workflow"
   ]
  },
  {
   "cell_type": "code",
   "execution_count": 13,
   "id": "8daec07d",
   "metadata": {},
   "outputs": [
    {
     "name": "stdout",
     "output_type": "stream",
     "text": [
      "--- Content Creator Agent ---\n"
     ]
    }
   ],
   "source": [
    "config = {\"configurable\": {\"thread_id\": 4}}\n",
    "\n",
    "r = workflow.invoke({\"messages\":\"Siamese cat\"}, config=config)"
   ]
  },
  {
   "cell_type": "code",
   "execution_count": null,
   "id": "f9e17fe0",
   "metadata": {},
   "outputs": [],
   "source": []
  },
  {
   "cell_type": "code",
   "execution_count": 14,
   "id": "54240964",
   "metadata": {},
   "outputs": [
    {
     "name": "stdout",
     "output_type": "stream",
     "text": [
      "Of course! Here is a fascinating and easy-to-read article about the Siamese cat, perfect for a 15-year-old.\n",
      "\n",
      "***\n",
      "\n",
      "### Meet the Siamese: The Royal Cat with a Lot to Say\n",
      "\n",
      "Ever seen a cat with stunning blue eyes, a sleek creamy coat, and dark \"points\" on its ears, face, and paws? You were probably looking at a Siamese! These cats are not just famous for their unique looks; they have a huge personality and a history that’s as cool as they are.\n",
      "\n",
      "Let's dive into the world of the elegant and chatty Siamese cat.\n",
      "\n",
      "#### From Ancient Temples to Your Living Room\n",
      "\n",
      "The story of the Siamese cat begins hundreds of years ago in Thailand, which was then called Siam. These weren't just any cats; they were treated like royalty! They lived in royal palaces and sacred temples, where they were believed to guard the spirits of the departed.\n",
      "\n",
      "In the late 1800s, the King of Siam gave a pair of these special cats to an English diplomat, and they became an instant sensation in the Western world. Everyone was captivated by their exotic appearance, and they quickly became one of the most popular cat breeds around.\n",
      "\n",
      "#### What Makes a Siamese Look So Unique?\n",
      "\n",
      "The Siamese look is unmistakable, and it's all down to some cool genetics.\n",
      "\n",
      "*   **Color Points:** A Siamese cat has a special gene that is sensitive to temperature. The fur on the warmest parts of their body (like their torso) stays light and creamy, while the fur on the cooler parts—their ears, face (mask), paws, and tail—turns a darker color. That's why they have those distinct \"points.\"\n",
      "*   **Born All White:** Here’s a fun fact! Siamese kittens are born completely white. They develop their famous dark points as they get older and are exposed to the cooler air outside the womb.\n",
      "*   **Striking Blue Eyes:** All purebred Siamese cats have piercing, almond-shaped blue eyes. This, combined with their pointed coat, gives them a truly unforgettable look.\n",
      "\n",
      "#### A Personality as Big as Their History\n",
      "\n",
      "If you think Siamese cats are just pretty faces, you're in for a surprise. They are known for having a \"dog-like\" personality and are anything but quiet and reserved.\n",
      "\n",
      "*   **They Are Talkers:** Siamese cats are famous for being extremely vocal. They love to \"chat\" with their owners and will meow and yowl to tell you exactly what they're thinking. Whether they're hungry, bored, or just want to say hi, you'll hear all about it!\n",
      "*   **Super Smart and Curious:** These are clever cats. They need lots of toys and playtime to keep their active minds busy. You can even teach them tricks like fetching or walking on a leash.\n",
      "*   **Social Butterflies:** A Siamese cat wants to be your best friend. They form very strong bonds with their families and hate being left alone for too long. They will follow you from room to room, \"help\" you with your homework, and want to be involved in everything you do.\n",
      "\n",
      "#### Is a Siamese the Right Cat for You?\n",
      "\n",
      "Owning a Siamese is an amazing experience, but they aren't for everyone. Their short coat is easy to groom, but their personality needs a lot of attention.\n",
      "\n",
      "They are perfect for someone who wants a pet that is more like a constant companion—a furry friend who is intelligent, playful, and incredibly loving. If you're looking for a cat that will be a true member of the family and fill your home with conversation, the Siamese might just be your perfect match.\n"
     ]
    }
   ],
   "source": [
    "print(r[\"__interrupt__\"][0].value[\"content\"].content)"
   ]
  },
  {
   "cell_type": "code",
   "execution_count": 15,
   "id": "2421526b",
   "metadata": {},
   "outputs": [
    {
     "name": "stdout",
     "output_type": "stream",
     "text": [
      "--- Rewrite process ---\n",
      "--- Content Creator Agent ---\n"
     ]
    }
   ],
   "source": [
    "text = \"I want it more concise and focus on cat breed.\"\n",
    "\n",
    "if text == \"approved\":\n",
    "    r = workflow.invoke(Command(resume=text),config=config)\n",
    "else:\n",
    "    r = workflow.invoke(Command(resume={\"decision\": text, \n",
    "                                        \"old_content\": r[\"__interrupt__\"][0].value[\"content\"].content}),config=config)\n",
    "\n",
    "# \"old_content\": r[\"__interrupt__\"][0].value[\"content\"].content"
   ]
  },
  {
   "cell_type": "code",
   "execution_count": 16,
   "id": "8f333279",
   "metadata": {},
   "outputs": [
    {
     "data": {
      "text/plain": [
       "{'messages': [HumanMessage(content='Cat and Dog shall healing mention health', additional_kwargs={}, response_metadata={}, id='62f3ebb5-b905-4467-ae78-066dacb40cd2'),\n",
       "  HumanMessage(content='Of course! Here is a clear and engaging article based on your title, written for a 15-year-old audience.\\n\\n***\\n\\n### Your Furry Friends: How Cats and Dogs Help Us Heal\\n\\nEver had a bad day, and the first thing you want to do is hug your dog or listen to your cat purr? It’s not just in your head—pets have a real, scientifically-proven power to make us feel better, both mentally and physically. They are more than just cute companions; they are furry little healers.\\n\\nLet\\'s break down how our cats and dogs boost our health.\\n\\n#### 1. The Ultimate Stress Busters\\n\\nLife can be stressful with school, friends, and everything else. This is where pets work their magic.\\n\\n*   **The Cuddle Chemical:** When you pet a dog or cat, your brain releases a hormone called **oxytocin**. This is often called the \"love hormone\" or \"cuddle chemical.\" It’s the same thing that makes you feel warm and fuzzy when you hug someone you care about. It instantly makes you feel calmer and happier.\\n*   **Lowering the Stress Hormone:** At the same time, spending time with a pet lowers your levels of **cortisol**, the body\\'s main stress hormone. So, more happy chemicals and fewer stress chemicals? That\\'s a win-win.\\n\\nSimply stroking your cat\\'s fur or playing fetch with your dog can melt away the day\\'s worries.\\n\\n#### 2. Your Personal Health Coaches\\n\\nBelieve it or not, having a pet can actually make your body healthier.\\n\\n*   **Heart Health:** The calming effect of a pet can lower your blood pressure. People with pets often have healthier hearts because they are generally less stressed.\\n*   **More Activity:** This one is especially true for dog owners. Your dog needs walks, runs, and playtime. This forces you to get outside and be active, which is great for your physical fitness. Even playing with a cat with a laser pointer gets you moving!\\n*   **Stronger Immune System:** Studies have shown that growing up with pets can expose you to different kinds of bacteria, which can help \"train\" your immune system to be stronger and may even reduce your risk of developing certain allergies.\\n\\n#### Special Healing Skills\\n\\nCats and dogs also have their own unique superpowers when it comes to healing.\\n\\n**The Cat\\'s Purr:** A cat\\'s purr isn\\'t just a sign of happiness. It vibrates at a frequency (between 20-140 Hz) that has been shown to have healing properties. This vibration can help:\\n*   Lower stress\\n*   Heal bones and soft tissues\\n*   Reduce pain and swelling\\n\\nSo, when a cat is purring on your lap, it’s like you’re getting a tiny, therapeutic treatment!\\n\\n**The Dog\\'s Intuition:** Dogs are experts at reading human emotions. They can sense when you\\'re sad, anxious, or upset. They offer comfort without you even having to ask for it—by resting their head on your lap, licking your hand, or just staying close. This unconditional love and support is incredibly powerful for our mental health.\\n\\n#### The Takeaway\\n\\nSo, the next time you cuddle your cat or throw a ball for your dog, remember that it’s more than just fun. You are sharing a powerful bond that makes you happier, calmer, and healthier. Our pets give us unconditional love, and in return, they heal us in ways we\\'re only just beginning to understand.', additional_kwargs={}, response_metadata={}, id='dd996d51-4a39-4d4c-82ed-f6b492bed1a3'),\n",
       "  HumanMessage(content='Siamese cat', additional_kwargs={}, response_metadata={}, id='76bf926c-4be9-4493-bba8-847d85d3b4b1'),\n",
       "  HumanMessage(content='Of course! Here is a fascinating and easy-to-read article about the Siamese cat, perfect for a 15-year-old.\\n\\n***\\n\\n### Meet the Siamese: The Royal Cat with a Lot to Say\\n\\nEver seen a cat with stunning blue eyes, a sleek creamy coat, and dark \"points\" on its ears, face, and paws? You were probably looking at a Siamese! These cats are not just famous for their unique looks; they have a huge personality and a history that’s as cool as they are.\\n\\nLet\\'s dive into the world of the elegant and chatty Siamese cat.\\n\\n#### From Ancient Temples to Your Living Room\\n\\nThe story of the Siamese cat begins hundreds of years ago in Thailand, which was then called Siam. These weren\\'t just any cats; they were treated like royalty! They lived in royal palaces and sacred temples, where they were believed to guard the spirits of the departed.\\n\\nIn the late 1800s, the King of Siam gave a pair of these special cats to an English diplomat, and they became an instant sensation in the Western world. Everyone was captivated by their exotic appearance, and they quickly became one of the most popular cat breeds around.\\n\\n#### What Makes a Siamese Look So Unique?\\n\\nThe Siamese look is unmistakable, and it\\'s all down to some cool genetics.\\n\\n*   **Color Points:** A Siamese cat has a special gene that is sensitive to temperature. The fur on the warmest parts of their body (like their torso) stays light and creamy, while the fur on the cooler parts—their ears, face (mask), paws, and tail—turns a darker color. That\\'s why they have those distinct \"points.\"\\n*   **Born All White:** Here’s a fun fact! Siamese kittens are born completely white. They develop their famous dark points as they get older and are exposed to the cooler air outside the womb.\\n*   **Striking Blue Eyes:** All purebred Siamese cats have piercing, almond-shaped blue eyes. This, combined with their pointed coat, gives them a truly unforgettable look.\\n\\n#### A Personality as Big as Their History\\n\\nIf you think Siamese cats are just pretty faces, you\\'re in for a surprise. They are known for having a \"dog-like\" personality and are anything but quiet and reserved.\\n\\n*   **They Are Talkers:** Siamese cats are famous for being extremely vocal. They love to \"chat\" with their owners and will meow and yowl to tell you exactly what they\\'re thinking. Whether they\\'re hungry, bored, or just want to say hi, you\\'ll hear all about it!\\n*   **Super Smart and Curious:** These are clever cats. They need lots of toys and playtime to keep their active minds busy. You can even teach them tricks like fetching or walking on a leash.\\n*   **Social Butterflies:** A Siamese cat wants to be your best friend. They form very strong bonds with their families and hate being left alone for too long. They will follow you from room to room, \"help\" you with your homework, and want to be involved in everything you do.\\n\\n#### Is a Siamese the Right Cat for You?\\n\\nOwning a Siamese is an amazing experience, but they aren\\'t for everyone. Their short coat is easy to groom, but their personality needs a lot of attention.\\n\\nThey are perfect for someone who wants a pet that is more like a constant companion—a furry friend who is intelligent, playful, and incredibly loving. If you\\'re looking for a cat that will be a true member of the family and fill your home with conversation, the Siamese might just be your perfect match.', additional_kwargs={}, response_metadata={}, id='7449d4e3-e15f-4301-adc4-f83e44f16322'),\n",
       "  HumanMessage(content='Of course! Here is a rewritten version of the article about the Siamese cat, structured for educational purposes with a fresh perspective.\\n\\n***\\n\\n### The Siamese Cat: A Blend of Royal Elegance and Playful Chatter\\n\\nImagine a cat with the grace of a ballet dancer, the piercing blue eyes of a sapphire, and the conversational skills of a talk show host. That\\'s the Siamese cat for you! This breed is a stunning combination of exotic beauty and a bold, engaging personality.\\n\\nLet\\'s explore what makes the Siamese one of the most captivating feline companions in the world.\\n\\n#### A Living Piece of History\\n\\nThe story of the Siamese doesn\\'t start in a modern home, but in the ancient temples and royal palaces of Siam (now Thailand). For centuries, these cats were revered and protected, with some legends saying they guarded the souls of royalty in the afterlife.\\n\\nTheir journey to the West began in the late 19th century when they were gifted to foreign dignitaries. The world was instantly charmed by their unique looks, and they quickly became a beloved breed far beyond the borders of Siam.\\n\\n#### The Science Behind the Style\\n\\nWhat gives the Siamese its signature look? It\\'s a fascinating bit of genetic magic.\\n\\n*   **The Pointed Pattern:** Siamese cats have a form of partial albinism caused by a temperature-sensitive enzyme. In warmer areas of the body (like the torso), pigment doesn\\'t develop, resulting in a light, creamy coat. In cooler extremities—the ears, face, paws, and tail—the pigment darkens, creating the famous \"points.\"\\n*   **A Blank Canvas:** This means Siamese kittens are born completely white! Their points only begin to appear a few weeks after birth as they are exposed to the cooler air outside the warmth of their mother\\'s womb.\\n*   **Those Blue Eyes:** Their striking, almond-shaped blue eyes are another hallmark of the breed, a direct result of the same gene that controls their unique coat color.\\n\\n#### The \"Dog-Like\" Personality\\n\\nDon\\'t let their elegant appearance fool you; the Siamese is no quiet, reserved lap cat. They are often described as having a \"dog-like\" personality due to their high intelligence and deep need for interaction.\\n\\n*   **A Born Communicator:** Siamese cats are famously vocal. They use a wide range of meows, chirps, and yowls to express their opinions, demand attention, or simply chat about their day. Life with a Siamese is never quiet!\\n*   **Clever and Curious:** With high intelligence comes a need for stimulation. They thrive on puzzle toys, interactive play, and can even be taught tricks like fetching or walking on a harness. A bored Siamese can quickly become a mischievous one.\\n*   **Your Furry Shadow:** These cats form incredibly strong bonds with their people. They are true socialites who want to be involved in every aspect of your life, from watching TV to \"helping\" with your chores. They do not enjoy being left alone for long periods.\\n\\n#### Caring for Your Royal Companion\\n\\nWhile their personality is high-maintenance, their physical care is relatively simple.\\n\\n*   **Grooming:** Their short, fine coat requires minimal grooming—just a weekly brushing to remove loose hair and keep it shiny.\\n*   **Mental & Emotional Health:** The most crucial aspect of Siamese care is providing attention and mental stimulation. They are not a good fit for someone who is away from home all day, unless they have another pet companion to keep them company.\\n*   **Physical Health:** Like many purebreds, they can be prone to certain dental and respiratory issues. Regular vet check-ups are important to keep them healthy and happy for their long lifespan, which can be 15-20 years.\\n\\n#### Is a Siamese Your Perfect Partner?\\n\\nThe Siamese cat is an extraordinary pet, but they demand as much as they give. They are best suited for active households where they can be the center of attention.\\n\\nIf you\\'re looking for an intelligent, loyal, and endlessly entertaining companion who will be a true member of your family, the Siamese might just be the perfect, talkative friend you\\'ve been searching for.', additional_kwargs={}, response_metadata={}, id='eda88038-cee3-40f0-b60f-5dfaf4951701')],\n",
       " 'decision': {'decision': 'I want it more concise and focus on cat breed.',\n",
       "  'old_content': 'Of course! Here is a fascinating and easy-to-read article about the Siamese cat, perfect for a 15-year-old.\\n\\n***\\n\\n### Meet the Siamese: The Royal Cat with a Lot to Say\\n\\nEver seen a cat with stunning blue eyes, a sleek creamy coat, and dark \"points\" on its ears, face, and paws? You were probably looking at a Siamese! These cats are not just famous for their unique looks; they have a huge personality and a history that’s as cool as they are.\\n\\nLet\\'s dive into the world of the elegant and chatty Siamese cat.\\n\\n#### From Ancient Temples to Your Living Room\\n\\nThe story of the Siamese cat begins hundreds of years ago in Thailand, which was then called Siam. These weren\\'t just any cats; they were treated like royalty! They lived in royal palaces and sacred temples, where they were believed to guard the spirits of the departed.\\n\\nIn the late 1800s, the King of Siam gave a pair of these special cats to an English diplomat, and they became an instant sensation in the Western world. Everyone was captivated by their exotic appearance, and they quickly became one of the most popular cat breeds around.\\n\\n#### What Makes a Siamese Look So Unique?\\n\\nThe Siamese look is unmistakable, and it\\'s all down to some cool genetics.\\n\\n*   **Color Points:** A Siamese cat has a special gene that is sensitive to temperature. The fur on the warmest parts of their body (like their torso) stays light and creamy, while the fur on the cooler parts—their ears, face (mask), paws, and tail—turns a darker color. That\\'s why they have those distinct \"points.\"\\n*   **Born All White:** Here’s a fun fact! Siamese kittens are born completely white. They develop their famous dark points as they get older and are exposed to the cooler air outside the womb.\\n*   **Striking Blue Eyes:** All purebred Siamese cats have piercing, almond-shaped blue eyes. This, combined with their pointed coat, gives them a truly unforgettable look.\\n\\n#### A Personality as Big as Their History\\n\\nIf you think Siamese cats are just pretty faces, you\\'re in for a surprise. They are known for having a \"dog-like\" personality and are anything but quiet and reserved.\\n\\n*   **They Are Talkers:** Siamese cats are famous for being extremely vocal. They love to \"chat\" with their owners and will meow and yowl to tell you exactly what they\\'re thinking. Whether they\\'re hungry, bored, or just want to say hi, you\\'ll hear all about it!\\n*   **Super Smart and Curious:** These are clever cats. They need lots of toys and playtime to keep their active minds busy. You can even teach them tricks like fetching or walking on a leash.\\n*   **Social Butterflies:** A Siamese cat wants to be your best friend. They form very strong bonds with their families and hate being left alone for too long. They will follow you from room to room, \"help\" you with your homework, and want to be involved in everything you do.\\n\\n#### Is a Siamese the Right Cat for You?\\n\\nOwning a Siamese is an amazing experience, but they aren\\'t for everyone. Their short coat is easy to groom, but their personality needs a lot of attention.\\n\\nThey are perfect for someone who wants a pet that is more like a constant companion—a furry friend who is intelligent, playful, and incredibly loving. If you\\'re looking for a cat that will be a true member of the family and fill your home with conversation, the Siamese might just be your perfect match.'}}"
      ]
     },
     "execution_count": 16,
     "metadata": {},
     "output_type": "execute_result"
    }
   ],
   "source": [
    "r"
   ]
  },
  {
   "cell_type": "code",
   "execution_count": null,
   "id": "f397016b",
   "metadata": {},
   "outputs": [],
   "source": []
  },
  {
   "cell_type": "code",
   "execution_count": null,
   "id": "9z8qmbsjom5",
   "metadata": {},
   "outputs": [],
   "source": [
    "# def human_review_fixed(state : State) -> Command[Literal[END, \"refine_creator\"]]:\n",
    "#     ''' Human approve the content - Fixed version '''\n",
    "    \n",
    "#     values = interrupt({\n",
    "#         \"question\": '''Is this pass your requirement?''',\n",
    "#         \"content\": state['messages'][-1],\n",
    "#     })\n",
    "    \n",
    "#     print(f\"Human decision received: {values}\")  # Debug print\n",
    "#     print(f\"Type of values: {type(values)}\")     # Debug print\n",
    "    \n",
    "#     # Handle different possible return values\n",
    "#     if values == \"approved\" or str(values).lower() == \"approved\":\n",
    "#         print(\"--- Human Approve process ---\")\n",
    "#         return Command(goto=END, update={\"decision\": \"approved\"})\n",
    "#     else:\n",
    "#         print(\"--- Rewrite process ---\")\n",
    "#         return Command(goto=\"refine_creator\", update={\"decision\": str(values)})"
   ]
  },
  {
   "cell_type": "code",
   "execution_count": null,
   "id": "2gskylffwhd",
   "metadata": {},
   "outputs": [],
   "source": [
    "# # Create a new workflow with the fixed human review function\n",
    "# checkpointer_fixed = MemorySaver()\n",
    "\n",
    "# graph_fixed = StateGraph(State)\n",
    "# graph_fixed.add_node(\"content_creator\", content_creator)\n",
    "# graph_fixed.add_node(\"refine_creator\", refine_creator)\n",
    "# graph_fixed.add_node(\"human\", human_review_fixed)  # Use the fixed version\n",
    "\n",
    "# graph_fixed.add_edge(START, \"content_creator\")\n",
    "# graph_fixed.add_edge(\"content_creator\", \"human\")\n",
    "# graph_fixed.add_edge(\"human\", END)\n",
    "\n",
    "# workflow_fixed = graph_fixed.compile(checkpointer=checkpointer_fixed)"
   ]
  },
  {
   "cell_type": "code",
   "execution_count": null,
   "id": "40bcdb53",
   "metadata": {},
   "outputs": [
    {
     "data": {
      "image/png": "[encoded data removed]",
      "text/plain": [
       "<langgraph.graph.state.CompiledStateGraph object at 0x000001EA53EC0830>"
      ]
     },
     "execution_count": 7,
     "metadata": {},
     "output_type": "execute_result"
    }
   ],
   "source": [
    "# workflow_fixed"
   ]
  },
  {
   "cell_type": "code",
   "execution_count": null,
   "id": "6ixaztnd7k8",
   "metadata": {},
   "outputs": [
    {
     "name": "stdout",
     "output_type": "stream",
     "text": [
      "--- Content Creator Agent ---\n"
     ]
    }
   ],
   "source": [
    "# # Test the fixed workflow\n",
    "# config_test = {\"configurable\": {\"thread_id\": 5}}\n",
    "\n",
    "# # Start with a new content creation request\n",
    "# result_test = workflow_fixed.invoke({\"messages\": \"Benefits of reading books\"}, config=config_test)\n",
    "# # print(\"Content created, waiting for human approval...\")"
   ]
  },
  {
   "cell_type": "code",
   "execution_count": null,
   "id": "8a75d856",
   "metadata": {},
   "outputs": [
    {
     "data": {
      "text/plain": [
       "{'messages': [HumanMessage(content='Benefits of reading books', additional_kwargs={}, response_metadata={}, id='51cbb660-430e-45c7-8779-5fad09434d30'),\n",
       "  HumanMessage(content=\"Of course! Here is some content about the benefits of reading books, created to be clear and engaging for a 15-year-old.\\n\\n***\\n\\n### The Awesome Benefits of Reading Books (Seriously!)\\n\\nThink of your brain like a smartphone. You want the latest updates, the best apps, and a super-fast processor, right? Well, reading books is one of the best ways to upgrade your brain. It’s not just something you have to do for school; it’s a superpower that can make you smarter, calmer, and more creative.\\n\\nHere’s how.\\n\\n#### 1. Level Up Your Brainpower 🧠\\n\\nReading is a workout for your mind. Just like lifting weights builds muscle, reading builds a stronger, faster brain.\\n\\n*   **Better Focus:** In a world of 15-second videos, getting lost in a book trains your brain to concentrate for longer periods. This helps you focus better in class and on your homework.\\n*   **Improved Memory:** Following plots, characters, and details gives your memory a serious workout, making it easier to remember things.\\n\\n#### 2. Become a Word Wizard 🧙\\u200d♂️\\n\\nEver struggle to find the right word? The more you read, the more words you’ll learn without even trying.\\n\\nHaving a bigger vocabulary helps you express your ideas more clearly, write killer essays, and sound smarter in conversations. It’s like having a secret code that everyone understands.\\n\\n#### 3. Your Personal Stress Buster 🧘\\n\\nFeeling stressed about exams, friends, or just... life? Diving into a good book is a perfect escape.\\n\\nFor a little while, you can forget your own problems and get lost in another world. Studies show that just six minutes of reading can reduce stress levels by more than half! It’s cheaper than therapy and works wonders.\\n\\n#### 4. See Through Other People's Eyes\\n\\nBooks let you step into someone else's shoes. You can experience life as a wizard, a detective, or someone living in a completely different country.\\n\\nThis builds **empathy**—the ability to understand and share the feelings of others. It’s a crucial skill for making and keeping good friends and understanding the world around you.\\n\\n#### 5. Unleash Your Imagination 🚀\\n\\nMovies and TV shows show you everything. Books make your brain do the work. You get to create the characters, the worlds, and the action in your own mind. This boosts your creativity, which is useful for everything from art class to coming up with cool ideas with your friends.\\n\\n---\\n\\n### How to Get Started?\\n\\nDon't know where to begin? No problem.\\n\\n*   **Find Your Thing:** Don't force yourself to read something boring. Love superheroes? Read graphic novels. Love fantasy or sci-fi? There are thousands of amazing worlds to explore.\\n*   **Start Small:** Just 10-15 minutes a day is a great start. Read before you go to sleep instead of scrolling on your phone.\\n*   **Listen Up:** Audiobooks totally count! You can listen while walking, on the bus, or doing chores.\\n\\nReading isn’t just about homework. It’s a way to boost your brain, reduce stress, and explore entire universes from your own room. Pick up a book—any book—and start your adventure today.\", additional_kwargs={}, response_metadata={}, id='7a2270dd-ac61-4fcb-9a01-b578a9d1308f')],\n",
       " '__interrupt__': [Interrupt(value={'question': 'Is this pass your requirement?', 'content': HumanMessage(content=\"Of course! Here is some content about the benefits of reading books, created to be clear and engaging for a 15-year-old.\\n\\n***\\n\\n### The Awesome Benefits of Reading Books (Seriously!)\\n\\nThink of your brain like a smartphone. You want the latest updates, the best apps, and a super-fast processor, right? Well, reading books is one of the best ways to upgrade your brain. It’s not just something you have to do for school; it’s a superpower that can make you smarter, calmer, and more creative.\\n\\nHere’s how.\\n\\n#### 1. Level Up Your Brainpower 🧠\\n\\nReading is a workout for your mind. Just like lifting weights builds muscle, reading builds a stronger, faster brain.\\n\\n*   **Better Focus:** In a world of 15-second videos, getting lost in a book trains your brain to concentrate for longer periods. This helps you focus better in class and on your homework.\\n*   **Improved Memory:** Following plots, characters, and details gives your memory a serious workout, making it easier to remember things.\\n\\n#### 2. Become a Word Wizard 🧙\\u200d♂️\\n\\nEver struggle to find the right word? The more you read, the more words you’ll learn without even trying.\\n\\nHaving a bigger vocabulary helps you express your ideas more clearly, write killer essays, and sound smarter in conversations. It’s like having a secret code that everyone understands.\\n\\n#### 3. Your Personal Stress Buster 🧘\\n\\nFeeling stressed about exams, friends, or just... life? Diving into a good book is a perfect escape.\\n\\nFor a little while, you can forget your own problems and get lost in another world. Studies show that just six minutes of reading can reduce stress levels by more than half! It’s cheaper than therapy and works wonders.\\n\\n#### 4. See Through Other People's Eyes\\n\\nBooks let you step into someone else's shoes. You can experience life as a wizard, a detective, or someone living in a completely different country.\\n\\nThis builds **empathy**—the ability to understand and share the feelings of others. It’s a crucial skill for making and keeping good friends and understanding the world around you.\\n\\n#### 5. Unleash Your Imagination 🚀\\n\\nMovies and TV shows show you everything. Books make your brain do the work. You get to create the characters, the worlds, and the action in your own mind. This boosts your creativity, which is useful for everything from art class to coming up with cool ideas with your friends.\\n\\n---\\n\\n### How to Get Started?\\n\\nDon't know where to begin? No problem.\\n\\n*   **Find Your Thing:** Don't force yourself to read something boring. Love superheroes? Read graphic novels. Love fantasy or sci-fi? There are thousands of amazing worlds to explore.\\n*   **Start Small:** Just 10-15 minutes a day is a great start. Read before you go to sleep instead of scrolling on your phone.\\n*   **Listen Up:** Audiobooks totally count! You can listen while walking, on the bus, or doing chores.\\n\\nReading isn’t just about homework. It’s a way to boost your brain, reduce stress, and explore entire universes from your own room. Pick up a book—any book—and start your adventure today.\", additional_kwargs={}, response_metadata={}, id='7a2270dd-ac61-4fcb-9a01-b578a9d1308f')}, id='fddd26d703b4991df676e68ef2e1330f')]}"
      ]
     },
     "execution_count": 9,
     "metadata": {},
     "output_type": "execute_result"
    }
   ],
   "source": [
    "# result_test"
   ]
  },
  {
   "cell_type": "code",
   "execution_count": null,
   "id": "4489c165",
   "metadata": {},
   "outputs": [
    {
     "name": "stdout",
     "output_type": "stream",
     "text": [
      "Human decision received: {'decision': 'approved'}\n",
      "Type of values: <class 'dict'>\n",
      "--- Rewrite process ---\n",
      "--- Content Creator Agent ---\n"
     ]
    }
   ],
   "source": [
    "# text = \"approved\"\n",
    "# result_testr = workflow_fixed.invoke(Command(resume={\"decision\": text}),config=config_test)"
   ]
  },
  {
   "cell_type": "code",
   "execution_count": null,
   "id": "c42b45fa",
   "metadata": {},
   "outputs": [],
   "source": []
  },
  {
   "cell_type": "code",
   "execution_count": null,
   "id": "6o96tpf6kk6",
   "metadata": {},
   "outputs": [],
   "source": [
    "# To approve the content, use this:\n",
    "# result_approved = workflow_fixed.invoke(Command(resume=\"approved\"), config=config_test)\n",
    "\n",
    "# To request changes, use this:\n",
    "# result_changes = workflow_fixed.invoke(Command(resume=\"Please make it shorter\"), config=config_test)"
   ]
  }
 ],
 "metadata": {
  "kernelspec": {
   "display_name": "hil-langgraph",
   "language": "python",
   "name": "python3"
  },
  "language_info": {
   "codemirror_mode": {
    "name": "ipython",
    "version": 3
   },
   "file_extension": ".py",
   "mimetype": "text/x-python",
   "name": "python",
   "nbconvert_exporter": "python",
   "pygments_lexer": "ipython3",
   "version": "3.13.2"
  }
 },
 "nbformat": 4,
 "nbformat_minor": 5
}
