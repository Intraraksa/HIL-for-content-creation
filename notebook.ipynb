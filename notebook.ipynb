{
 "cells": [
  {
   "cell_type": "code",
   "execution_count": 1,
   "id": "95ec5bf8",
   "metadata": {},
   "outputs": [
    {
     "data": {
      "text/plain": [
       "True"
      ]
     },
     "execution_count": 1,
     "metadata": {},
     "output_type": "execute_result"
    }
   ],
   "source": [
    "from langchain_google_genai import ChatGoogleGenerativeAI\n",
    "from langchain_core.prompts import ChatPromptTemplate, MessagesPlaceholder\n",
    "from langgraph.graph import StateGraph, MessagesState, START, END\n",
    "from langgraph.graph.message import add_messages\n",
    "from langgraph.types import interrupt, Command\n",
    "from langgraph.checkpoint.memory import MemorySaver\n",
    "\n",
    "from pydantic import BaseModel\n",
    "from typing_extensions import TypedDict, Annotated, Literal\n",
    "\n",
    "import os\n",
    "from dotenv import load_dotenv\n",
    "\n",
    "load_dotenv()"
   ]
  },
  {
   "cell_type": "code",
   "execution_count": 2,
   "id": "a9b68761",
   "metadata": {},
   "outputs": [
    {
     "name": "stdout",
     "output_type": "stream",
     "text": [
      "content='The capital of Thailand is **Bangkok**.' additional_kwargs={} response_metadata={'prompt_feedback': {'block_reason': 0, 'safety_ratings': []}, 'finish_reason': 'STOP', 'model_name': 'gemini-2.5-flash', 'safety_ratings': []} id='run--61fbe57e-f803-48f3-b04f-a804ac037ee8-0' usage_metadata={'input_tokens': 8, 'output_tokens': 33, 'total_tokens': 41, 'input_token_details': {'cache_read': 0}, 'output_token_details': {'reasoning': 24}}\n"
     ]
    }
   ],
   "source": [
    "try:\n",
    "    llm = ChatGoogleGenerativeAI(model='gemini-2.5-flash', temperature=0.2)\n",
    "    print(llm.invoke(\"What is a capital of Thailand?\"))\n",
    "except:\n",
    "    ValueError (print(\"Op! something wrong about your model\"))"
   ]
  },
  {
   "cell_type": "code",
   "execution_count": 3,
   "id": "d27d5652",
   "metadata": {},
   "outputs": [],
   "source": [
    "class State(TypedDict):\n",
    "    messages : Annotated[list[str],add_messages]\n",
    "    publish : str\n",
    "    decision : str\n",
    "    "
   ]
  },
  {
   "cell_type": "code",
   "execution_count": 4,
   "id": "cdb5aea1",
   "metadata": {},
   "outputs": [],
   "source": [
    "state = State()\n",
    "state['messages'] = \"Travel to the mar is terrible\""
   ]
  },
  {
   "cell_type": "code",
   "execution_count": 5,
   "id": "9aa6abde",
   "metadata": {},
   "outputs": [],
   "source": [
    "def content_creator(state: State) -> State:\n",
    "\n",
    "    print(\"--- Content Creator Agent ---\")\n",
    "    ''' Content creator agent tone for 15 year old '''\n",
    "    system = \"\"\"You are content creator agent, Your task is create high quality content from title that user given\n",
    "                Your story must include at least 2 character. You content must proper to kids under 15\n",
    "            \"\"\"\n",
    "    \n",
    "    prompt = ChatPromptTemplate.from_messages([\n",
    "        (\"system\",system),\n",
    "        (\"human\",\"{messages}\")\n",
    "    ])\n",
    "    \n",
    "    chain = prompt | llm \n",
    "\n",
    "    result = chain.invoke({'messages': state[\"messages\"]})\n",
    "\n",
    "    return {'messages' : result.content, 'publish': result.content}\n",
    "\n",
    "def refine_creator(state: State) -> State:\n",
    "\n",
    "    print(\"--- Content Creator Agent ---\")\n",
    "    ''' Content creator agent tone for 15 year old '''\n",
    "    system = \"\"\"You are content creator agent, Your task is create high quality content from title that user given\n",
    "                You tone must be professional and engaging.\n",
    "            \"\"\"\n",
    "    \n",
    "    prompt = ChatPromptTemplate.from_messages([\n",
    "        (\"system\",system),\n",
    "        (\"human\",\"{messages}\")\n",
    "    ])\n",
    "    \n",
    "    chain = prompt | llm \n",
    "\n",
    "    result = chain.invoke({'messages': state[\"messages\"]})\n",
    "\n",
    "    return {'messages' : result.content, 'publish': result.content}\n"
   ]
  },
  {
   "cell_type": "code",
   "execution_count": 6,
   "id": "8366f13f",
   "metadata": {},
   "outputs": [],
   "source": [
    "def human_approve(state : State) -> Command[Literal[END, \"refine_creator\"]]:\n",
    "    ''' Human approve the content '''\n",
    "    \n",
    "    values = interrupt({\n",
    "                        \"question\":'''Is this pass your requirement?''',\n",
    "                        \"pre contetnt\": state['publish'],\n",
    "                        # \"decision\": state['decision']\n",
    "                        })\n",
    "    if values == \"approved\":\n",
    "        print(\"--- Human Approve process ---\")\n",
    "        return Command(goto=END, update={\"decision\": \"approved\"})\n",
    "    elif values == \"rejected\":\n",
    "        print(\"--- Human Rejected process ---\")\n",
    "        return Command(goto=\"refine_creator\", update={\"decision\": \"rejected\"})\n",
    "    "
   ]
  },
  {
   "cell_type": "code",
   "execution_count": null,
   "id": "1n5nd9yjxhj",
   "metadata": {},
   "outputs": [],
   "source": [
    "# def human_approve_fixed(state: State) -> Command[Literal[END, \"refine_creator\"]]:\n",
    "#     ''' Human approve the content - Fixed version '''\n",
    "    \n",
    "#     values = interrupt({\n",
    "#         \"question\": '''Is this pass your requirement?''',\n",
    "#         \"pre_content\": state['publish'],\n",
    "#     })\n",
    "    \n",
    "#     print(f\"Human decision received: {values}\")  # Debug print\n",
    "    \n",
    "#     # Handle different possible return values\n",
    "#     if values == \"approved\" or str(values).lower() == \"approved\":\n",
    "#         print(\"--- Human Approve process ---\")\n",
    "#         return Command(goto=END, update={\"decision\": \"approved\"})\n",
    "#     else:  # Any other value (including \"rejected\") goes to refine\n",
    "#         print(\"--- Human Rejected process ---\")\n",
    "#         return Command(goto=\"refine_creator\", update={\"decision\": \"rejected\"})"
   ]
  },
  {
   "cell_type": "code",
   "execution_count": null,
   "id": "gps44xo6ura",
   "metadata": {},
   "outputs": [],
   "source": [
    "# # Create a new workflow with the fixed human approval function\n",
    "# checkpointer_fixed = MemorySaver()\n",
    "\n",
    "# graph_fixed = StateGraph(State)\n",
    "# graph_fixed.add_node(\"content_creator\", content_creator)\n",
    "# graph_fixed.add_node(\"refine_creator\", refine_creator)\n",
    "# graph_fixed.add_node(\"human\", human_approve_fixed)  # Use the fixed version\n",
    "\n",
    "# graph_fixed.add_edge(START, \"content_creator\")\n",
    "# graph_fixed.add_edge(\"content_creator\", \"human\")\n",
    "# graph_fixed.add_edge(\"human\", END)\n",
    "\n",
    "# workflow_fixed = graph_fixed.compile(checkpointer=checkpointer_fixed)"
   ]
  },
  {
   "cell_type": "code",
   "execution_count": null,
   "id": "r5tqy6x82e",
   "metadata": {},
   "outputs": [],
   "source": [
    "# # Test the fixed workflow\n",
    "# config_fixed = {\"configurable\": {\"thread_id\": 3}}\n",
    "\n",
    "# # Start with a new content creation request\n",
    "# result = workflow_fixed.invoke({\"messages\": \"Learning to ride a bicycle\"}, config=config_fixed)\n",
    "# print(\"Content created, waiting for human approval...\")"
   ]
  },
  {
   "cell_type": "code",
   "execution_count": 9,
   "id": "a90c4198",
   "metadata": {},
   "outputs": [],
   "source": [
    "checkpointer = MemorySaver()\n",
    "\n",
    "graph = StateGraph(State)\n",
    "graph.add_node(\"content_creator\", content_creator)\n",
    "#####\n",
    "graph.add_node(\"refine_creator\", refine_creator)\n",
    "graph.add_node(\"human\",human_approve)\n",
    "#####\n",
    "graph.add_edge(START, \"content_creator\")\n",
    "graph.add_edge(\"content_creator\", \"human\")\n",
    "graph.add_edge(\"human\",END)\n",
    "workflow = graph.compile(checkpointer=checkpointer)"
   ]
  },
  {
   "cell_type": "code",
   "execution_count": 10,
   "id": "5bb2d1cf",
   "metadata": {},
   "outputs": [
    {
     "data": {
      "image/png": "[encoded data removed]",
      "text/plain": [
       "<langgraph.graph.state.CompiledStateGraph object at 0x000002A5EEB2D950>"
      ]
     },
     "execution_count": 10,
     "metadata": {},
     "output_type": "execute_result"
    }
   ],
   "source": [
    "workflow"
   ]
  },
  {
   "cell_type": "code",
   "execution_count": 14,
   "id": "38948ce1",
   "metadata": {},
   "outputs": [
    {
     "name": "stdout",
     "output_type": "stream",
     "text": [
      "--- Content Creator Agent ---\n"
     ]
    },
    {
     "data": {
      "text/plain": [
       "{'messages': [HumanMessage(content='get mention heealth with pets', additional_kwargs={}, response_metadata={}, id='d3166c32-8948-4aa8-94f2-bd05fc3799ee'),\n",
       "  HumanMessage(content='## The Wiggle-Waggle Wellness Plan\\n\\nLily sighed, flopping onto her beanbag chair. Outside, the sun was shining, but inside, she felt a bit… droopy. Her favorite book lay unread, and her drawing pad was empty.\\n\\nSuddenly, a wet nose nudged her hand. It was Pip, her fluffy, golden-brown terrier mix, with his tail doing a happy wiggle-waggle. Pip held a bright red squeaky ball in his mouth, his big brown eyes looking up at Lily expectantly.\\n\\n\"Not now, Pip,\" Lily mumbled, trying to sound firm, but Pip just tilted his head, dropped the ball, and let out a soft \"woof!\" Then he nudged the ball with his nose towards the door.\\n\\nLily giggled. \"You really want to play, don\\'t you?\"\\n\\nPip responded with another enthusiastic tail wag, a little bark, and then he trotted to the door, looking back at Lily as if to say, \"Come on!\"\\n\\nLily couldn\\'t resist. Pip always knew how to cheer her up. She grabbed his leash and her sneakers. \"Alright, Pip! Park time!\"\\n\\nAs soon as they stepped outside, Lily felt a little spark of energy. The fresh air smelled like cut grass and sunshine. Pip pulled gently on his leash, eager to explore. They walked to the neighborhood park, where Pip immediately found a patch of soft grass perfect for rolling. Lily laughed as he wriggled and squirmed, kicking his legs in the air.\\n\\nThen, it was fetch time! Lily threw the red ball, and Pip zoomed after it, his ears flapping in the wind. Lily ran too, chasing after him, laughing as he brought the ball back, panting happily. They played for a good twenty minutes, running, jumping, and even doing a silly dance when Pip tried to catch a leaf.\\n\\nBy the time they headed home, Lily\\'s cheeks were rosy, and her heart was thumping a happy rhythm. She felt warm all over, not just from the sun, but from the joy of playing. The droopy feeling was completely gone.\\n\\nWhen they walked through the door, Lily\\'s older brother, Tom, was sitting at the kitchen table, doing his homework. He looked up and smiled. \"Wow, Lily, you look like you just ran a marathon! And Pip looks like he won it!\"\\n\\nLily grinned, giving Pip a pat. \"We had so much fun at the park! I feel so much better now.\"\\n\\nTom nodded. \"That\\'s the magic of pets, you know. They\\'re like little furry health coaches!\"\\n\\nLily tilted her head. \"Health coaches?\"\\n\\n\"Yep!\" Tom explained. \"Think about it. When you play fetch with Pip, you\\'re running and moving your body, which is great exercise for your heart and muscles. That helps you stay strong and healthy.\"\\n\\n\"And when I was feeling droopy,\" Lily added, \"Pip made me want to go outside. He always makes me happy!\"\\n\\n\"Exactly!\" Tom said. \"Pets are amazing for our minds too. When you cuddle Pip, or even just watch him sleep, it can make you feel calm and less stressed. And when you\\'re happy, your whole body feels better. Plus, taking care of Pip, like feeding him and making sure he has water, teaches you responsibility. It gives you a routine, which is good for you too.\"\\n\\nLily looked at Pip, who was now curled up at her feet, already dozing off after his big adventure. She gently stroked his soft fur. \"So, Pip helps me stay healthy and happy, inside and out?\"\\n\\nTom smiled. \"He sure does. Pets are wonderful friends who remind us to get up, move around, and fill our lives with joy. They\\'re the best kind of wellness plan!\"\\n\\nLily hugged Pip, feeling a wave of gratitude for her furry friend. She knew that with Pip by her side, every day could be an adventure, and every adventure would help her stay healthy and happy.', additional_kwargs={}, response_metadata={}, id='49bdceff-9700-4aad-bf10-8bd631ec2bc1')],\n",
       " 'publish': '## The Wiggle-Waggle Wellness Plan\\n\\nLily sighed, flopping onto her beanbag chair. Outside, the sun was shining, but inside, she felt a bit… droopy. Her favorite book lay unread, and her drawing pad was empty.\\n\\nSuddenly, a wet nose nudged her hand. It was Pip, her fluffy, golden-brown terrier mix, with his tail doing a happy wiggle-waggle. Pip held a bright red squeaky ball in his mouth, his big brown eyes looking up at Lily expectantly.\\n\\n\"Not now, Pip,\" Lily mumbled, trying to sound firm, but Pip just tilted his head, dropped the ball, and let out a soft \"woof!\" Then he nudged the ball with his nose towards the door.\\n\\nLily giggled. \"You really want to play, don\\'t you?\"\\n\\nPip responded with another enthusiastic tail wag, a little bark, and then he trotted to the door, looking back at Lily as if to say, \"Come on!\"\\n\\nLily couldn\\'t resist. Pip always knew how to cheer her up. She grabbed his leash and her sneakers. \"Alright, Pip! Park time!\"\\n\\nAs soon as they stepped outside, Lily felt a little spark of energy. The fresh air smelled like cut grass and sunshine. Pip pulled gently on his leash, eager to explore. They walked to the neighborhood park, where Pip immediately found a patch of soft grass perfect for rolling. Lily laughed as he wriggled and squirmed, kicking his legs in the air.\\n\\nThen, it was fetch time! Lily threw the red ball, and Pip zoomed after it, his ears flapping in the wind. Lily ran too, chasing after him, laughing as he brought the ball back, panting happily. They played for a good twenty minutes, running, jumping, and even doing a silly dance when Pip tried to catch a leaf.\\n\\nBy the time they headed home, Lily\\'s cheeks were rosy, and her heart was thumping a happy rhythm. She felt warm all over, not just from the sun, but from the joy of playing. The droopy feeling was completely gone.\\n\\nWhen they walked through the door, Lily\\'s older brother, Tom, was sitting at the kitchen table, doing his homework. He looked up and smiled. \"Wow, Lily, you look like you just ran a marathon! And Pip looks like he won it!\"\\n\\nLily grinned, giving Pip a pat. \"We had so much fun at the park! I feel so much better now.\"\\n\\nTom nodded. \"That\\'s the magic of pets, you know. They\\'re like little furry health coaches!\"\\n\\nLily tilted her head. \"Health coaches?\"\\n\\n\"Yep!\" Tom explained. \"Think about it. When you play fetch with Pip, you\\'re running and moving your body, which is great exercise for your heart and muscles. That helps you stay strong and healthy.\"\\n\\n\"And when I was feeling droopy,\" Lily added, \"Pip made me want to go outside. He always makes me happy!\"\\n\\n\"Exactly!\" Tom said. \"Pets are amazing for our minds too. When you cuddle Pip, or even just watch him sleep, it can make you feel calm and less stressed. And when you\\'re happy, your whole body feels better. Plus, taking care of Pip, like feeding him and making sure he has water, teaches you responsibility. It gives you a routine, which is good for you too.\"\\n\\nLily looked at Pip, who was now curled up at her feet, already dozing off after his big adventure. She gently stroked his soft fur. \"So, Pip helps me stay healthy and happy, inside and out?\"\\n\\nTom smiled. \"He sure does. Pets are wonderful friends who remind us to get up, move around, and fill our lives with joy. They\\'re the best kind of wellness plan!\"\\n\\nLily hugged Pip, feeling a wave of gratitude for her furry friend. She knew that with Pip by her side, every day could be an adventure, and every adventure would help her stay healthy and happy.',\n",
       " '__interrupt__': [Interrupt(value={'question': 'Is this pass your requirement?', 'pre contetnt': '## The Wiggle-Waggle Wellness Plan\\n\\nLily sighed, flopping onto her beanbag chair. Outside, the sun was shining, but inside, she felt a bit… droopy. Her favorite book lay unread, and her drawing pad was empty.\\n\\nSuddenly, a wet nose nudged her hand. It was Pip, her fluffy, golden-brown terrier mix, with his tail doing a happy wiggle-waggle. Pip held a bright red squeaky ball in his mouth, his big brown eyes looking up at Lily expectantly.\\n\\n\"Not now, Pip,\" Lily mumbled, trying to sound firm, but Pip just tilted his head, dropped the ball, and let out a soft \"woof!\" Then he nudged the ball with his nose towards the door.\\n\\nLily giggled. \"You really want to play, don\\'t you?\"\\n\\nPip responded with another enthusiastic tail wag, a little bark, and then he trotted to the door, looking back at Lily as if to say, \"Come on!\"\\n\\nLily couldn\\'t resist. Pip always knew how to cheer her up. She grabbed his leash and her sneakers. \"Alright, Pip! Park time!\"\\n\\nAs soon as they stepped outside, Lily felt a little spark of energy. The fresh air smelled like cut grass and sunshine. Pip pulled gently on his leash, eager to explore. They walked to the neighborhood park, where Pip immediately found a patch of soft grass perfect for rolling. Lily laughed as he wriggled and squirmed, kicking his legs in the air.\\n\\nThen, it was fetch time! Lily threw the red ball, and Pip zoomed after it, his ears flapping in the wind. Lily ran too, chasing after him, laughing as he brought the ball back, panting happily. They played for a good twenty minutes, running, jumping, and even doing a silly dance when Pip tried to catch a leaf.\\n\\nBy the time they headed home, Lily\\'s cheeks were rosy, and her heart was thumping a happy rhythm. She felt warm all over, not just from the sun, but from the joy of playing. The droopy feeling was completely gone.\\n\\nWhen they walked through the door, Lily\\'s older brother, Tom, was sitting at the kitchen table, doing his homework. He looked up and smiled. \"Wow, Lily, you look like you just ran a marathon! And Pip looks like he won it!\"\\n\\nLily grinned, giving Pip a pat. \"We had so much fun at the park! I feel so much better now.\"\\n\\nTom nodded. \"That\\'s the magic of pets, you know. They\\'re like little furry health coaches!\"\\n\\nLily tilted her head. \"Health coaches?\"\\n\\n\"Yep!\" Tom explained. \"Think about it. When you play fetch with Pip, you\\'re running and moving your body, which is great exercise for your heart and muscles. That helps you stay strong and healthy.\"\\n\\n\"And when I was feeling droopy,\" Lily added, \"Pip made me want to go outside. He always makes me happy!\"\\n\\n\"Exactly!\" Tom said. \"Pets are amazing for our minds too. When you cuddle Pip, or even just watch him sleep, it can make you feel calm and less stressed. And when you\\'re happy, your whole body feels better. Plus, taking care of Pip, like feeding him and making sure he has water, teaches you responsibility. It gives you a routine, which is good for you too.\"\\n\\nLily looked at Pip, who was now curled up at her feet, already dozing off after his big adventure. She gently stroked his soft fur. \"So, Pip helps me stay healthy and happy, inside and out?\"\\n\\nTom smiled. \"He sure does. Pets are wonderful friends who remind us to get up, move around, and fill our lives with joy. They\\'re the best kind of wellness plan!\"\\n\\nLily hugged Pip, feeling a wave of gratitude for her furry friend. She knew that with Pip by her side, every day could be an adventure, and every adventure would help her stay healthy and happy.'}, id='876db7212032fe215783e66c9c2e2a2c')]}"
      ]
     },
     "execution_count": 14,
     "metadata": {},
     "output_type": "execute_result"
    }
   ],
   "source": [
    "config = {\"configurable\": {\"thread_id\": 3}}\n",
    "\n",
    "workflow.invoke({\"messages\":\"get mention heealth with pets\"}, config=config)"
   ]
  },
  {
   "cell_type": "code",
   "execution_count": 15,
   "id": "51a4f6da",
   "metadata": {},
   "outputs": [
    {
     "name": "stdout",
     "output_type": "stream",
     "text": [
      "--- Human Approve process ---\n"
     ]
    }
   ],
   "source": [
    "r = workflow.invoke(Command(resume=\"approved\"),config=config)"
   ]
  },
  {
   "cell_type": "code",
   "execution_count": 16,
   "id": "f1036110",
   "metadata": {},
   "outputs": [
    {
     "name": "stdout",
     "output_type": "stream",
     "text": [
      "## The Wiggle-Waggle Wellness Plan\n",
      "\n",
      "Lily sighed, flopping onto her beanbag chair. Outside, the sun was shining, but inside, she felt a bit… droopy. Her favorite book lay unread, and her drawing pad was empty.\n",
      "\n",
      "Suddenly, a wet nose nudged her hand. It was Pip, her fluffy, golden-brown terrier mix, with his tail doing a happy wiggle-waggle. Pip held a bright red squeaky ball in his mouth, his big brown eyes looking up at Lily expectantly.\n",
      "\n",
      "\"Not now, Pip,\" Lily mumbled, trying to sound firm, but Pip just tilted his head, dropped the ball, and let out a soft \"woof!\" Then he nudged the ball with his nose towards the door.\n",
      "\n",
      "Lily giggled. \"You really want to play, don't you?\"\n",
      "\n",
      "Pip responded with another enthusiastic tail wag, a little bark, and then he trotted to the door, looking back at Lily as if to say, \"Come on!\"\n",
      "\n",
      "Lily couldn't resist. Pip always knew how to cheer her up. She grabbed his leash and her sneakers. \"Alright, Pip! Park time!\"\n",
      "\n",
      "As soon as they stepped outside, Lily felt a little spark of energy. The fresh air smelled like cut grass and sunshine. Pip pulled gently on his leash, eager to explore. They walked to the neighborhood park, where Pip immediately found a patch of soft grass perfect for rolling. Lily laughed as he wriggled and squirmed, kicking his legs in the air.\n",
      "\n",
      "Then, it was fetch time! Lily threw the red ball, and Pip zoomed after it, his ears flapping in the wind. Lily ran too, chasing after him, laughing as he brought the ball back, panting happily. They played for a good twenty minutes, running, jumping, and even doing a silly dance when Pip tried to catch a leaf.\n",
      "\n",
      "By the time they headed home, Lily's cheeks were rosy, and her heart was thumping a happy rhythm. She felt warm all over, not just from the sun, but from the joy of playing. The droopy feeling was completely gone.\n",
      "\n",
      "When they walked through the door, Lily's older brother, Tom, was sitting at the kitchen table, doing his homework. He looked up and smiled. \"Wow, Lily, you look like you just ran a marathon! And Pip looks like he won it!\"\n",
      "\n",
      "Lily grinned, giving Pip a pat. \"We had so much fun at the park! I feel so much better now.\"\n",
      "\n",
      "Tom nodded. \"That's the magic of pets, you know. They're like little furry health coaches!\"\n",
      "\n",
      "Lily tilted her head. \"Health coaches?\"\n",
      "\n",
      "\"Yep!\" Tom explained. \"Think about it. When you play fetch with Pip, you're running and moving your body, which is great exercise for your heart and muscles. That helps you stay strong and healthy.\"\n",
      "\n",
      "\"And when I was feeling droopy,\" Lily added, \"Pip made me want to go outside. He always makes me happy!\"\n",
      "\n",
      "\"Exactly!\" Tom said. \"Pets are amazing for our minds too. When you cuddle Pip, or even just watch him sleep, it can make you feel calm and less stressed. And when you're happy, your whole body feels better. Plus, taking care of Pip, like feeding him and making sure he has water, teaches you responsibility. It gives you a routine, which is good for you too.\"\n",
      "\n",
      "Lily looked at Pip, who was now curled up at her feet, already dozing off after his big adventure. She gently stroked his soft fur. \"So, Pip helps me stay healthy and happy, inside and out?\"\n",
      "\n",
      "Tom smiled. \"He sure does. Pets are wonderful friends who remind us to get up, move around, and fill our lives with joy. They're the best kind of wellness plan!\"\n",
      "\n",
      "Lily hugged Pip, feeling a wave of gratitude for her furry friend. She knew that with Pip by her side, every day could be an adventure, and every adventure would help her stay healthy and happy.\n"
     ]
    }
   ],
   "source": [
    "print(r['messages'][-1].content)"
   ]
  },
  {
   "cell_type": "code",
   "execution_count": 17,
   "id": "47e4269d",
   "metadata": {},
   "outputs": [
    {
     "data": {
      "text/plain": [
       "{'messages': [HumanMessage(content='get mention heealth with pets', additional_kwargs={}, response_metadata={}, id='d3166c32-8948-4aa8-94f2-bd05fc3799ee'),\n",
       "  HumanMessage(content='## The Wiggle-Waggle Wellness Plan\\n\\nLily sighed, flopping onto her beanbag chair. Outside, the sun was shining, but inside, she felt a bit… droopy. Her favorite book lay unread, and her drawing pad was empty.\\n\\nSuddenly, a wet nose nudged her hand. It was Pip, her fluffy, golden-brown terrier mix, with his tail doing a happy wiggle-waggle. Pip held a bright red squeaky ball in his mouth, his big brown eyes looking up at Lily expectantly.\\n\\n\"Not now, Pip,\" Lily mumbled, trying to sound firm, but Pip just tilted his head, dropped the ball, and let out a soft \"woof!\" Then he nudged the ball with his nose towards the door.\\n\\nLily giggled. \"You really want to play, don\\'t you?\"\\n\\nPip responded with another enthusiastic tail wag, a little bark, and then he trotted to the door, looking back at Lily as if to say, \"Come on!\"\\n\\nLily couldn\\'t resist. Pip always knew how to cheer her up. She grabbed his leash and her sneakers. \"Alright, Pip! Park time!\"\\n\\nAs soon as they stepped outside, Lily felt a little spark of energy. The fresh air smelled like cut grass and sunshine. Pip pulled gently on his leash, eager to explore. They walked to the neighborhood park, where Pip immediately found a patch of soft grass perfect for rolling. Lily laughed as he wriggled and squirmed, kicking his legs in the air.\\n\\nThen, it was fetch time! Lily threw the red ball, and Pip zoomed after it, his ears flapping in the wind. Lily ran too, chasing after him, laughing as he brought the ball back, panting happily. They played for a good twenty minutes, running, jumping, and even doing a silly dance when Pip tried to catch a leaf.\\n\\nBy the time they headed home, Lily\\'s cheeks were rosy, and her heart was thumping a happy rhythm. She felt warm all over, not just from the sun, but from the joy of playing. The droopy feeling was completely gone.\\n\\nWhen they walked through the door, Lily\\'s older brother, Tom, was sitting at the kitchen table, doing his homework. He looked up and smiled. \"Wow, Lily, you look like you just ran a marathon! And Pip looks like he won it!\"\\n\\nLily grinned, giving Pip a pat. \"We had so much fun at the park! I feel so much better now.\"\\n\\nTom nodded. \"That\\'s the magic of pets, you know. They\\'re like little furry health coaches!\"\\n\\nLily tilted her head. \"Health coaches?\"\\n\\n\"Yep!\" Tom explained. \"Think about it. When you play fetch with Pip, you\\'re running and moving your body, which is great exercise for your heart and muscles. That helps you stay strong and healthy.\"\\n\\n\"And when I was feeling droopy,\" Lily added, \"Pip made me want to go outside. He always makes me happy!\"\\n\\n\"Exactly!\" Tom said. \"Pets are amazing for our minds too. When you cuddle Pip, or even just watch him sleep, it can make you feel calm and less stressed. And when you\\'re happy, your whole body feels better. Plus, taking care of Pip, like feeding him and making sure he has water, teaches you responsibility. It gives you a routine, which is good for you too.\"\\n\\nLily looked at Pip, who was now curled up at her feet, already dozing off after his big adventure. She gently stroked his soft fur. \"So, Pip helps me stay healthy and happy, inside and out?\"\\n\\nTom smiled. \"He sure does. Pets are wonderful friends who remind us to get up, move around, and fill our lives with joy. They\\'re the best kind of wellness plan!\"\\n\\nLily hugged Pip, feeling a wave of gratitude for her furry friend. She knew that with Pip by her side, every day could be an adventure, and every adventure would help her stay healthy and happy.', additional_kwargs={}, response_metadata={}, id='49bdceff-9700-4aad-bf10-8bd631ec2bc1')],\n",
       " 'publish': '## The Wiggle-Waggle Wellness Plan\\n\\nLily sighed, flopping onto her beanbag chair. Outside, the sun was shining, but inside, she felt a bit… droopy. Her favorite book lay unread, and her drawing pad was empty.\\n\\nSuddenly, a wet nose nudged her hand. It was Pip, her fluffy, golden-brown terrier mix, with his tail doing a happy wiggle-waggle. Pip held a bright red squeaky ball in his mouth, his big brown eyes looking up at Lily expectantly.\\n\\n\"Not now, Pip,\" Lily mumbled, trying to sound firm, but Pip just tilted his head, dropped the ball, and let out a soft \"woof!\" Then he nudged the ball with his nose towards the door.\\n\\nLily giggled. \"You really want to play, don\\'t you?\"\\n\\nPip responded with another enthusiastic tail wag, a little bark, and then he trotted to the door, looking back at Lily as if to say, \"Come on!\"\\n\\nLily couldn\\'t resist. Pip always knew how to cheer her up. She grabbed his leash and her sneakers. \"Alright, Pip! Park time!\"\\n\\nAs soon as they stepped outside, Lily felt a little spark of energy. The fresh air smelled like cut grass and sunshine. Pip pulled gently on his leash, eager to explore. They walked to the neighborhood park, where Pip immediately found a patch of soft grass perfect for rolling. Lily laughed as he wriggled and squirmed, kicking his legs in the air.\\n\\nThen, it was fetch time! Lily threw the red ball, and Pip zoomed after it, his ears flapping in the wind. Lily ran too, chasing after him, laughing as he brought the ball back, panting happily. They played for a good twenty minutes, running, jumping, and even doing a silly dance when Pip tried to catch a leaf.\\n\\nBy the time they headed home, Lily\\'s cheeks were rosy, and her heart was thumping a happy rhythm. She felt warm all over, not just from the sun, but from the joy of playing. The droopy feeling was completely gone.\\n\\nWhen they walked through the door, Lily\\'s older brother, Tom, was sitting at the kitchen table, doing his homework. He looked up and smiled. \"Wow, Lily, you look like you just ran a marathon! And Pip looks like he won it!\"\\n\\nLily grinned, giving Pip a pat. \"We had so much fun at the park! I feel so much better now.\"\\n\\nTom nodded. \"That\\'s the magic of pets, you know. They\\'re like little furry health coaches!\"\\n\\nLily tilted her head. \"Health coaches?\"\\n\\n\"Yep!\" Tom explained. \"Think about it. When you play fetch with Pip, you\\'re running and moving your body, which is great exercise for your heart and muscles. That helps you stay strong and healthy.\"\\n\\n\"And when I was feeling droopy,\" Lily added, \"Pip made me want to go outside. He always makes me happy!\"\\n\\n\"Exactly!\" Tom said. \"Pets are amazing for our minds too. When you cuddle Pip, or even just watch him sleep, it can make you feel calm and less stressed. And when you\\'re happy, your whole body feels better. Plus, taking care of Pip, like feeding him and making sure he has water, teaches you responsibility. It gives you a routine, which is good for you too.\"\\n\\nLily looked at Pip, who was now curled up at her feet, already dozing off after his big adventure. She gently stroked his soft fur. \"So, Pip helps me stay healthy and happy, inside and out?\"\\n\\nTom smiled. \"He sure does. Pets are wonderful friends who remind us to get up, move around, and fill our lives with joy. They\\'re the best kind of wellness plan!\"\\n\\nLily hugged Pip, feeling a wave of gratitude for her furry friend. She knew that with Pip by her side, every day could be an adventure, and every adventure would help her stay healthy and happy.',\n",
       " 'decision': 'approved'}"
      ]
     },
     "execution_count": 17,
     "metadata": {},
     "output_type": "execute_result"
    }
   ],
   "source": [
    "r"
   ]
  },
  {
   "cell_type": "code",
   "execution_count": null,
   "id": "971d3686",
   "metadata": {},
   "outputs": [],
   "source": []
  }
 ],
 "metadata": {
  "kernelspec": {
   "display_name": "hil-langgraph",
   "language": "python",
   "name": "python3"
  },
  "language_info": {
   "codemirror_mode": {
    "name": "ipython",
    "version": 3
   },
   "file_extension": ".py",
   "mimetype": "text/x-python",
   "name": "python",
   "nbconvert_exporter": "python",
   "pygments_lexer": "ipython3",
   "version": "3.13.2"
  }
 },
 "nbformat": 4,
 "nbformat_minor": 5
}
